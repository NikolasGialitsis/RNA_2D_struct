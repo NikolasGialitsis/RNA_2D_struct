{
  "nbformat": 4,
  "nbformat_minor": 0,
  "metadata": {
    "colab": {
      "name": "RNA_fold.ipynb",
      "provenance": [],
      "collapsed_sections": [],
      "authorship_tag": "ABX9TyNwlaYqwDGsRvEj2TNm3JEN",
      "include_colab_link": true
    },
    "kernelspec": {
      "name": "python3",
      "display_name": "Python 3"
    }
  },
  "cells": [
    {
      "cell_type": "markdown",
      "metadata": {
        "id": "view-in-github",
        "colab_type": "text"
      },
      "source": [
        "<a href=\"https://colab.research.google.com/github/NikolasGialitsis/RNA_2D_struct/blob/master/RNA_fold.ipynb\" target=\"_parent\"><img src=\"https://colab.research.google.com/assets/colab-badge.svg\" alt=\"Open In Colab\"/></a>"
      ]
    },
    {
      "cell_type": "markdown",
      "metadata": {
        "id": "BKdswLrUY9TR",
        "colab_type": "text"
      },
      "source": [
        "Find all optimal secondary structures of the RNA sequence AAUACUCCGUUGCAGCAU with the following simplified Zuker minimization algorithm. "
      ]
    },
    {
      "cell_type": "code",
      "metadata": {
        "id": "oBQwOQu6YgUl",
        "colab_type": "code",
        "colab": {}
      },
      "source": [
        "seq = 'AAUACUCCGUUGCAGCAU'"
      ],
      "execution_count": 0,
      "outputs": []
    },
    {
      "cell_type": "code",
      "metadata": {
        "id": "aWvIItNhaVrK",
        "colab_type": "code",
        "outputId": "f9b52d86-4d80-45a5-a8ec-d6f2c1b0fe8b",
        "colab": {
          "base_uri": "https://localhost:8080/",
          "height": 392
        }
      },
      "source": [
        "'''               j\n",
        "      1   2   3   4   5   6   7\n",
        "    1 0   0   0   0           X\n",
        "    2 0   0   0   0   0\n",
        "    3 0   0   0   0   0   0    \n",
        "i   4 0   0   0   0   0   0   0\n",
        "    5     0   0   0   0   0   0\n",
        "    6         0   0   0   0   0\n",
        "    7             0   0   0   0\n",
        "'''\n",
        "\n",
        "import numpy as np\n",
        "import math\n",
        "\n",
        "def initInfiniteArray(n):\n",
        "  print('Initialize array of size '+str(n))\n",
        "  array = np.zeros((n,n))\n",
        "  rows,cols = array.shape\n",
        "  for j in range(rows):\n",
        "    for i in range(cols):\n",
        "      if j+3 > i:\n",
        "        array[j,i] = np.inf\n",
        "      else:\n",
        "        array[j,i] = float(\"nan\")\n",
        "\n",
        "  return array\n",
        "\n",
        "def compute_W(W,V,i,j):\n",
        "  left = W[i-1,j]\n",
        "  bottom = W[i,j+1]\n",
        "  V[i,j]  = compute_V(W,i,j) \n",
        "  min_k_val = np.inf\n",
        "  flag = True\n",
        "  for k in range(j+2,i):\n",
        "    curr = W[i,k] + W[k-1,j]\n",
        "    if flag or curr < min_k_val:\n",
        "      min_k_val = curr\n",
        "      if flag:\n",
        "        flag = False\n",
        "  return min(left,bottom,V[i,j],min_k_val),V\n",
        "\n",
        "def has_bond(base1,base2,bond):\n",
        "  if base1+base2 == bond or base2+base1 == bond:\n",
        "    return True\n",
        "  else:\n",
        "    return False\n",
        "  \n",
        "\n",
        "def s(i,j):\n",
        "  base1 = seq[i-1]\n",
        "  base2 = seq[j-1]\n",
        "  WatsonCrick = [\"GC\",\"AU\"]\n",
        "  for bond in WatsonCrick:\n",
        "    if has_bond(base1,base2,\"GC\"):\n",
        "      return -4\n",
        "  if has_bond(base1,base2,\"GU\"):\n",
        "    return 0\n",
        "  else:\n",
        "    return 4\n",
        "\n",
        "def h(i,j):\n",
        "  if i > j:\n",
        "    return i-j+3\n",
        "  else:\n",
        "    return 0\n",
        "\n",
        "\n",
        "def compute_V(W,i,j):\n",
        "  hairpin = s(i,j) + h(i-1,j+1)\n",
        "  match = s(i,j) + W[i-1,j]\n",
        "  return min(hairpin,match)\n",
        "\n",
        "n = len(seq)\n",
        "W = initInfiniteArray(n)\n",
        "V = initInfiniteArray(n)\n",
        "while(math.isnan(W[0,n-1])) :\n",
        "  for j in range(n):\n",
        "    for i in range(n):\n",
        "      if j + 3 <= i: \n",
        "        down = W[j+1,i]\n",
        "        left = W[j,i-1]\n",
        "        if math.isnan(down) or math.isnan(left):\n",
        "          continue\n",
        "        W[j,i],V = compute_W(W,V,i,j)\n",
        "print(W)\n",
        "\n"
      ],
      "execution_count": 152,
      "outputs": [
        {
          "output_type": "stream",
          "text": [
            "Initialize array of size 18\n",
            "Initialize array of size 18\n",
            "[[inf inf inf  8.  9. 10. 11. 12. 13. 10. 15. 16. 13. 18. 19. 16. 21. 22.]\n",
            " [inf inf inf inf  8.  9. 10. 11. 12. 13. 14. 15. 16. 17. 18. 19. 20. 21.]\n",
            " [inf inf inf inf inf  8.  9. 10. 11. 12. 13. 14. 15. 16. 17. 18. 19. 20.]\n",
            " [inf inf inf inf inf inf  8.  9. 10.  7. 12. 13. 10. 15. 16. 13. 18. 19.]\n",
            " [inf inf inf inf inf inf inf  8.  9. 10. 11. 12. 13. 14. 15. 16. 17. 18.]\n",
            " [inf inf inf inf inf inf inf inf  8.  1. 10. 11.  4. 13. 14.  7. 16. 17.]\n",
            " [inf inf inf inf inf inf inf inf inf  4.  9. 10.  7. 12. 13. 10. 15. 16.]\n",
            " [inf inf inf inf inf inf inf inf inf inf  8.  9.  2. 11. 12.  5. 14. 15.]\n",
            " [inf inf inf inf inf inf inf inf inf inf inf  8.  1. 10. 11.  4. 13. 14.]\n",
            " [inf inf inf inf inf inf inf inf inf inf inf inf  8.  1. 10. 11.  4. 13.]\n",
            " [inf inf inf inf inf inf inf inf inf inf inf inf inf  8.  9.  6. 11. 12.]\n",
            " [inf inf inf inf inf inf inf inf inf inf inf inf inf inf  8.  5. 10. 11.]\n",
            " [inf inf inf inf inf inf inf inf inf inf inf inf inf inf inf  8.  1. 10.]\n",
            " [inf inf inf inf inf inf inf inf inf inf inf inf inf inf inf inf  8.  9.]\n",
            " [inf inf inf inf inf inf inf inf inf inf inf inf inf inf inf inf inf  8.]\n",
            " [inf inf inf inf inf inf inf inf inf inf inf inf inf inf inf inf inf inf]\n",
            " [inf inf inf inf inf inf inf inf inf inf inf inf inf inf inf inf inf inf]\n",
            " [inf inf inf inf inf inf inf inf inf inf inf inf inf inf inf inf inf inf]]\n"
          ],
          "name": "stdout"
        }
      ]
    },
    {
      "cell_type": "code",
      "metadata": {
        "id": "D9_eqQlEq2iX",
        "colab_type": "code",
        "colab": {
          "base_uri": "https://localhost:8080/",
          "height": 354
        },
        "outputId": "c37a33ba-98a1-44cf-bb80-697d64b20131"
      },
      "source": [
        "print(V.transpose(1,0))"
      ],
      "execution_count": 157,
      "outputs": [
        {
          "output_type": "stream",
          "text": [
            "[[inf inf inf  8.  9. 10. 11. 12. 13. 10. 15. 16. 13. 18. 19. 16. 21. 22.]\n",
            " [inf inf inf inf  8.  9. 10. 11. 12. 13. 14. 15. 16. 17. 18. 19. 20. 21.]\n",
            " [inf inf inf inf inf  8.  9. 10. 11. 12. 13. 14. 15. 16. 17. 18. 19. 20.]\n",
            " [nan inf inf inf inf inf  8.  9. 10.  7. 12. 13. 10. 15. 16. 13. 18. 19.]\n",
            " [nan nan inf inf inf inf inf  8.  9. 10. 11. 12. 13. 14. 15. 16. 17. 18.]\n",
            " [nan nan nan inf inf inf inf inf  8.  1. 10. 11.  4. 13. 14.  7. 16. 17.]\n",
            " [nan nan nan nan inf inf inf inf inf  4.  9. 10.  7. 12. 13. 10. 15. 16.]\n",
            " [nan nan nan nan nan inf inf inf inf inf  8.  9.  2. 11. 12.  5. 14. 15.]\n",
            " [nan nan nan nan nan nan inf inf inf inf inf  8.  1. 10. 11.  4. 13. 14.]\n",
            " [nan nan nan nan nan nan nan inf inf inf inf inf  8.  1. 10. 11.  4. 13.]\n",
            " [nan nan nan nan nan nan nan nan inf inf inf inf inf  8.  9.  6. 11. 12.]\n",
            " [nan nan nan nan nan nan nan nan nan inf inf inf inf inf  8.  5. 10. 11.]\n",
            " [nan nan nan nan nan nan nan nan nan nan inf inf inf inf inf  8.  1. 10.]\n",
            " [nan nan nan nan nan nan nan nan nan nan nan inf inf inf inf inf  8.  9.]\n",
            " [nan nan nan nan nan nan nan nan nan nan nan nan inf inf inf inf inf  8.]\n",
            " [nan nan nan nan nan nan nan nan nan nan nan nan nan inf inf inf inf inf]\n",
            " [nan nan nan nan nan nan nan nan nan nan nan nan nan nan inf inf inf inf]\n",
            " [nan nan nan nan nan nan nan nan nan nan nan nan nan nan nan inf inf inf]]\n"
          ],
          "name": "stdout"
        }
      ]
    }
  ]
}